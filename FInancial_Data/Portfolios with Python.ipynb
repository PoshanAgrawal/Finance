{
 "cells": [
  {
   "cell_type": "code",
   "execution_count": 29,
   "id": "ef10fa9d",
   "metadata": {},
   "outputs": [],
   "source": [
    "import pandas_datareader.data as web\n",
    "import math\n",
    "import numpy as np\n",
    "import seaborn as sns\n",
    "import matplotlib.pyplot as plt\n",
    "import yfinance as yfin\n",
    "import datetime\n",
    "import pandas as pd\n",
    "yfin.pdr_override()"
   ]
  },
  {
   "cell_type": "markdown",
   "id": "9536fcc2",
   "metadata": {},
   "source": [
    "## Portfolios Return"
   ]
  },
  {
   "cell_type": "code",
   "execution_count": 2,
   "id": "bd61d8cf",
   "metadata": {},
   "outputs": [
    {
     "data": {
      "text/plain": [
       "(datetime.date(2018, 7, 11), datetime.date(2023, 7, 10))"
      ]
     },
     "execution_count": 2,
     "metadata": {},
     "output_type": "execute_result"
    }
   ],
   "source": [
    "end=datetime.date.today()\n",
    "start=end-datetime.timedelta(365*5)\n",
    "start,end"
   ]
  },
  {
   "cell_type": "code",
   "execution_count": 3,
   "id": "aa2404b6",
   "metadata": {},
   "outputs": [
    {
     "name": "stdout",
     "output_type": "stream",
     "text": [
      "[*********************100%***********************]  3 of 3 completed\n"
     ]
    }
   ],
   "source": [
    "prices=web.DataReader([\"LT.NS\",\"TCS.NS\",\"ICICIBANK.NS\"],start,end)[\"Adj Close\"]"
   ]
  },
  {
   "cell_type": "code",
   "execution_count": 4,
   "id": "6d32a2b8",
   "metadata": {},
   "outputs": [
    {
     "data": {
      "text/html": [
       "<div>\n",
       "<style scoped>\n",
       "    .dataframe tbody tr th:only-of-type {\n",
       "        vertical-align: middle;\n",
       "    }\n",
       "\n",
       "    .dataframe tbody tr th {\n",
       "        vertical-align: top;\n",
       "    }\n",
       "\n",
       "    .dataframe thead th {\n",
       "        text-align: right;\n",
       "    }\n",
       "</style>\n",
       "<table border=\"1\" class=\"dataframe\">\n",
       "  <thead>\n",
       "    <tr style=\"text-align: right;\">\n",
       "      <th></th>\n",
       "      <th>ICICIBANK.NS</th>\n",
       "      <th>LT.NS</th>\n",
       "      <th>TCS.NS</th>\n",
       "    </tr>\n",
       "    <tr>\n",
       "      <th>Date</th>\n",
       "      <th></th>\n",
       "      <th></th>\n",
       "      <th></th>\n",
       "    </tr>\n",
       "  </thead>\n",
       "  <tbody>\n",
       "    <tr>\n",
       "      <th>2018-07-11</th>\n",
       "      <td>260.975128</td>\n",
       "      <td>1163.524048</td>\n",
       "      <td>1778.277466</td>\n",
       "    </tr>\n",
       "    <tr>\n",
       "      <th>2018-07-12</th>\n",
       "      <td>264.422455</td>\n",
       "      <td>1186.342773</td>\n",
       "      <td>1770.598145</td>\n",
       "    </tr>\n",
       "    <tr>\n",
       "      <th>2018-07-13</th>\n",
       "      <td>260.004089</td>\n",
       "      <td>1185.110474</td>\n",
       "      <td>1779.355469</td>\n",
       "    </tr>\n",
       "    <tr>\n",
       "      <th>2018-07-16</th>\n",
       "      <td>251.750000</td>\n",
       "      <td>1171.145630</td>\n",
       "      <td>1786.630371</td>\n",
       "    </tr>\n",
       "    <tr>\n",
       "      <th>2018-07-17</th>\n",
       "      <td>258.741760</td>\n",
       "      <td>1174.568359</td>\n",
       "      <td>1801.885376</td>\n",
       "    </tr>\n",
       "  </tbody>\n",
       "</table>\n",
       "</div>"
      ],
      "text/plain": [
       "            ICICIBANK.NS        LT.NS       TCS.NS\n",
       "Date                                              \n",
       "2018-07-11    260.975128  1163.524048  1778.277466\n",
       "2018-07-12    264.422455  1186.342773  1770.598145\n",
       "2018-07-13    260.004089  1185.110474  1779.355469\n",
       "2018-07-16    251.750000  1171.145630  1786.630371\n",
       "2018-07-17    258.741760  1174.568359  1801.885376"
      ]
     },
     "execution_count": 4,
     "metadata": {},
     "output_type": "execute_result"
    }
   ],
   "source": [
    "prices.head()"
   ]
  },
  {
   "cell_type": "markdown",
   "id": "0871cbfb",
   "metadata": {},
   "source": [
    "Assumption: Bough 100 shares of each 5 years ag0"
   ]
  },
  {
   "cell_type": "code",
   "execution_count": 5,
   "id": "f885afd0",
   "metadata": {},
   "outputs": [],
   "source": [
    "#Initial Prices\n",
    "\n",
    "initial_LT= prices[\"LT.NS\"][0]\n",
    "initial_TCS= prices[\"TCS.NS\"][0]\n",
    "initial_ICICIBANK= prices[\"ICICIBANK.NS\"][0]\n",
    "\n",
    "#Final Prices\n",
    "final_LT= prices[\"LT.NS\"][-1]\n",
    "final_TCS= prices[\"TCS.NS\"][-1]\n",
    "final_ICICIBANK= prices[\"ICICIBANK.NS\"][-1]\n",
    "\n",
    "#Weights\n",
    "weight_LT= initial_LT/(initial_ICICIBANK+initial_LT+initial_TCS)\n",
    "weight_TCS= initial_TCS/(initial_ICICIBANK+initial_LT+initial_TCS)\n",
    "weight_ICICIBANK= initial_ICICIBANK/(initial_ICICIBANK+initial_LT+initial_TCS)"
   ]
  },
  {
   "cell_type": "code",
   "execution_count": 6,
   "id": "f1171be5",
   "metadata": {},
   "outputs": [
    {
     "name": "stdout",
     "output_type": "stream",
     "text": [
      "We have initial investmetn in ICICIBANK Of 26097.513, in LT of 116352.405, and in TCS of 177827.747\n"
     ]
    }
   ],
   "source": [
    "print(\"We have initial investmetn in ICICIBANK Of %.3f, in LT of %.3f, and in TCS of %.3f\"\n",
    "      %(initial_ICICIBANK*100,initial_LT*100,initial_TCS*100)\n",
    "     )"
   ]
  },
  {
   "cell_type": "code",
   "execution_count": 7,
   "id": "85fe5354",
   "metadata": {},
   "outputs": [
    {
     "name": "stdout",
     "output_type": "stream",
     "text": [
      "The weight of ICICIBANK in total portfolio is 0.081, of LT is 0.363, and of TCS is 0.555\n"
     ]
    }
   ],
   "source": [
    "print(\n",
    "    \"The weight of ICICIBANK in total portfolio is %.3f, of LT is %.3f, and of TCS is %.3f\"\n",
    "    %(weight_ICICIBANK,weight_LT,weight_TCS)\n",
    ")"
   ]
  },
  {
   "cell_type": "code",
   "execution_count": 8,
   "id": "cf6f64a2",
   "metadata": {},
   "outputs": [],
   "source": [
    "# Return Calculation\n",
    "return_ICICIBANK=100*(final_ICICIBANK-initial_ICICIBANK)/initial_ICICIBANK\n",
    "return_LT=100*(final_LT-initial_LT)/initial_LT\n",
    "return_TCS=100*(final_TCS-initial_TCS)/initial_TCS\n"
   ]
  },
  {
   "cell_type": "code",
   "execution_count": 9,
   "id": "f9e79694",
   "metadata": {},
   "outputs": [
    {
     "name": "stdout",
     "output_type": "stream",
     "text": [
      "The overall return of ICICIBANK is 262.64%, of LT is 110.51%, and of TCS is 87.22%\n"
     ]
    }
   ],
   "source": [
    "print(\n",
    "    \"The overall return of ICICIBANK is %.2f%%, of LT is %.2f%%, and of TCS is %.2f%%\"\n",
    "    %(return_ICICIBANK,return_LT,return_TCS)\n",
    ")"
   ]
  },
  {
   "cell_type": "code",
   "execution_count": 10,
   "id": "f4fba7f5",
   "metadata": {},
   "outputs": [
    {
     "name": "stdout",
     "output_type": "stream",
     "text": [
      "The overall return of portfolio is 109.97%\n"
     ]
    }
   ],
   "source": [
    "print(\n",
    "    \"The overall return of portfolio is %.2f%%\"\n",
    "    %(weight_ICICIBANK*return_ICICIBANK+weight_LT*return_LT+weight_TCS*return_TCS)\n",
    ")"
   ]
  },
  {
   "cell_type": "markdown",
   "id": "68c85dfc",
   "metadata": {},
   "source": [
    "## Portfolio Variance"
   ]
  },
  {
   "cell_type": "code",
   "execution_count": 11,
   "id": "acb22634",
   "metadata": {},
   "outputs": [],
   "source": [
    "weights= np.array([weight_ICICIBANK,weight_LT,weight_TCS])\n",
    "returns=prices.pct_change()\n",
    "covariance=25*returns.cov()"
   ]
  },
  {
   "cell_type": "code",
   "execution_count": 12,
   "id": "e501d809",
   "metadata": {},
   "outputs": [
    {
     "name": "stdout",
     "output_type": "stream",
     "text": [
      "0.4411%\n"
     ]
    }
   ],
   "source": [
    "variance=np.dot(weights.T,np.dot(covariance,weights))\n",
    "\n",
    "print(str(np.round(variance,6)*100)+\"%\")"
   ]
  },
  {
   "cell_type": "markdown",
   "id": "d2f7ac20",
   "metadata": {},
   "source": [
    "### Comparing Portfolio Variance with each individual variance"
   ]
  },
  {
   "cell_type": "code",
   "execution_count": 13,
   "id": "a67eeb7f",
   "metadata": {},
   "outputs": [
    {
     "data": {
      "text/plain": [
       "ICICIBANK.NS    0.116216\n",
       "LT.NS           0.081026\n",
       "TCS.NS          0.063909\n",
       "dtype: float64"
      ]
     },
     "execution_count": 13,
     "metadata": {},
     "output_type": "execute_result"
    }
   ],
   "source": [
    "returns.var()*252"
   ]
  },
  {
   "cell_type": "markdown",
   "id": "0aa9d796",
   "metadata": {},
   "source": [
    "The variance of the portfolio is very low than that of the individual equities"
   ]
  },
  {
   "cell_type": "markdown",
   "id": "a7984b06",
   "metadata": {},
   "source": [
    "**Standard Deviation**"
   ]
  },
  {
   "cell_type": "code",
   "execution_count": 14,
   "id": "b0dc8343",
   "metadata": {},
   "outputs": [
    {
     "data": {
      "text/plain": [
       "6.64"
      ]
     },
     "execution_count": 14,
     "metadata": {},
     "output_type": "execute_result"
    }
   ],
   "source": [
    "np.round(math.sqrt(variance)*100,2)"
   ]
  },
  {
   "cell_type": "markdown",
   "id": "9d015b26",
   "metadata": {},
   "source": [
    "The Standard Deviation of the portfolio is around 6.65%"
   ]
  },
  {
   "cell_type": "markdown",
   "id": "0c41961a",
   "metadata": {},
   "source": [
    "### Sharpe ratio of the portfolio"
   ]
  },
  {
   "cell_type": "code",
   "execution_count": 15,
   "id": "7af37799",
   "metadata": {},
   "outputs": [
    {
     "data": {
      "text/plain": [
       "3.3074905023283616"
      ]
     },
     "execution_count": 15,
     "metadata": {},
     "output_type": "execute_result"
    }
   ],
   "source": [
    "sharpe= np.dot(weights.T,[return_ICICIBANK,return_LT,return_TCS])/5/6.65\n",
    "\n",
    "#divided  by 5 to get approximate 1 year return\n",
    "sharpe"
   ]
  },
  {
   "cell_type": "markdown",
   "id": "6f1453e0",
   "metadata": {},
   "source": [
    "## Writing Reusable codes for all above"
   ]
  },
  {
   "cell_type": "code",
   "execution_count": 22,
   "id": "9ce51b88",
   "metadata": {},
   "outputs": [],
   "source": [
    "#Calculating Returns\n",
    "\n",
    "def getReturns(starttime,endtime,tickers):\n",
    "    prices=web.DataReader(list(tickers.keys()),starttime,endtime)[\"Adj Close\"]\n",
    "    prices=prices.rename(columns=tickers)\n",
    "    prices=prices.dropna()\n",
    "    return prices.pct_change()"
   ]
  },
  {
   "cell_type": "code",
   "execution_count": 23,
   "id": "5092db6d",
   "metadata": {},
   "outputs": [
    {
     "name": "stdout",
     "output_type": "stream",
     "text": [
      "[*********************100%***********************]  3 of 3 completed\n"
     ]
    },
    {
     "data": {
      "text/html": [
       "<div>\n",
       "<style scoped>\n",
       "    .dataframe tbody tr th:only-of-type {\n",
       "        vertical-align: middle;\n",
       "    }\n",
       "\n",
       "    .dataframe tbody tr th {\n",
       "        vertical-align: top;\n",
       "    }\n",
       "\n",
       "    .dataframe thead th {\n",
       "        text-align: right;\n",
       "    }\n",
       "</style>\n",
       "<table border=\"1\" class=\"dataframe\">\n",
       "  <thead>\n",
       "    <tr style=\"text-align: right;\">\n",
       "      <th></th>\n",
       "      <th>ICICIBANK</th>\n",
       "      <th>LT</th>\n",
       "      <th>TCS</th>\n",
       "    </tr>\n",
       "    <tr>\n",
       "      <th>Date</th>\n",
       "      <th></th>\n",
       "      <th></th>\n",
       "      <th></th>\n",
       "    </tr>\n",
       "  </thead>\n",
       "  <tbody>\n",
       "    <tr>\n",
       "      <th>2018-07-11</th>\n",
       "      <td>NaN</td>\n",
       "      <td>NaN</td>\n",
       "      <td>NaN</td>\n",
       "    </tr>\n",
       "    <tr>\n",
       "      <th>2018-07-12</th>\n",
       "      <td>0.013209</td>\n",
       "      <td>0.019612</td>\n",
       "      <td>-0.004318</td>\n",
       "    </tr>\n",
       "    <tr>\n",
       "      <th>2018-07-13</th>\n",
       "      <td>-0.016709</td>\n",
       "      <td>-0.001039</td>\n",
       "      <td>0.004946</td>\n",
       "    </tr>\n",
       "    <tr>\n",
       "      <th>2018-07-16</th>\n",
       "      <td>-0.031746</td>\n",
       "      <td>-0.011784</td>\n",
       "      <td>0.004089</td>\n",
       "    </tr>\n",
       "    <tr>\n",
       "      <th>2018-07-17</th>\n",
       "      <td>0.027772</td>\n",
       "      <td>0.002922</td>\n",
       "      <td>0.008538</td>\n",
       "    </tr>\n",
       "    <tr>\n",
       "      <th>...</th>\n",
       "      <td>...</td>\n",
       "      <td>...</td>\n",
       "      <td>...</td>\n",
       "    </tr>\n",
       "    <tr>\n",
       "      <th>2023-07-03</th>\n",
       "      <td>0.008506</td>\n",
       "      <td>-0.008685</td>\n",
       "      <td>-0.009070</td>\n",
       "    </tr>\n",
       "    <tr>\n",
       "      <th>2023-07-04</th>\n",
       "      <td>0.002281</td>\n",
       "      <td>0.003178</td>\n",
       "      <td>0.011170</td>\n",
       "    </tr>\n",
       "    <tr>\n",
       "      <th>2023-07-05</th>\n",
       "      <td>0.014079</td>\n",
       "      <td>0.003635</td>\n",
       "      <td>0.003355</td>\n",
       "    </tr>\n",
       "    <tr>\n",
       "      <th>2023-07-06</th>\n",
       "      <td>0.001461</td>\n",
       "      <td>0.007204</td>\n",
       "      <td>0.000889</td>\n",
       "    </tr>\n",
       "    <tr>\n",
       "      <th>2023-07-07</th>\n",
       "      <td>-0.013550</td>\n",
       "      <td>-0.015772</td>\n",
       "      <td>0.001911</td>\n",
       "    </tr>\n",
       "  </tbody>\n",
       "</table>\n",
       "<p>1232 rows × 3 columns</p>\n",
       "</div>"
      ],
      "text/plain": [
       "            ICICIBANK        LT       TCS\n",
       "Date                                     \n",
       "2018-07-11        NaN       NaN       NaN\n",
       "2018-07-12   0.013209  0.019612 -0.004318\n",
       "2018-07-13  -0.016709 -0.001039  0.004946\n",
       "2018-07-16  -0.031746 -0.011784  0.004089\n",
       "2018-07-17   0.027772  0.002922  0.008538\n",
       "...               ...       ...       ...\n",
       "2023-07-03   0.008506 -0.008685 -0.009070\n",
       "2023-07-04   0.002281  0.003178  0.011170\n",
       "2023-07-05   0.014079  0.003635  0.003355\n",
       "2023-07-06   0.001461  0.007204  0.000889\n",
       "2023-07-07  -0.013550 -0.015772  0.001911\n",
       "\n",
       "[1232 rows x 3 columns]"
      ]
     },
     "execution_count": 23,
     "metadata": {},
     "output_type": "execute_result"
    }
   ],
   "source": [
    "ret= getReturns(start,end,{\"ICICIBANK.NS\":\"ICICIBANK\",\"LT.NS\":\"LT\",\"TCS.NS\":\"TCS\"})\n",
    "ret"
   ]
  },
  {
   "cell_type": "code",
   "execution_count": 24,
   "id": "13b85911",
   "metadata": {},
   "outputs": [
    {
     "data": {
      "text/html": [
       "<div>\n",
       "<style scoped>\n",
       "    .dataframe tbody tr th:only-of-type {\n",
       "        vertical-align: middle;\n",
       "    }\n",
       "\n",
       "    .dataframe tbody tr th {\n",
       "        vertical-align: top;\n",
       "    }\n",
       "\n",
       "    .dataframe thead th {\n",
       "        text-align: right;\n",
       "    }\n",
       "</style>\n",
       "<table border=\"1\" class=\"dataframe\">\n",
       "  <thead>\n",
       "    <tr style=\"text-align: right;\">\n",
       "      <th></th>\n",
       "      <th>ICICIBANK</th>\n",
       "      <th>LT</th>\n",
       "      <th>TCS</th>\n",
       "    </tr>\n",
       "  </thead>\n",
       "  <tbody>\n",
       "    <tr>\n",
       "      <th>ICICIBANK</th>\n",
       "      <td>1.000000</td>\n",
       "      <td>0.550685</td>\n",
       "      <td>0.282080</td>\n",
       "    </tr>\n",
       "    <tr>\n",
       "      <th>LT</th>\n",
       "      <td>0.550685</td>\n",
       "      <td>1.000000</td>\n",
       "      <td>0.273115</td>\n",
       "    </tr>\n",
       "    <tr>\n",
       "      <th>TCS</th>\n",
       "      <td>0.282080</td>\n",
       "      <td>0.273115</td>\n",
       "      <td>1.000000</td>\n",
       "    </tr>\n",
       "  </tbody>\n",
       "</table>\n",
       "</div>"
      ],
      "text/plain": [
       "           ICICIBANK        LT       TCS\n",
       "ICICIBANK   1.000000  0.550685  0.282080\n",
       "LT          0.550685  1.000000  0.273115\n",
       "TCS         0.282080  0.273115  1.000000"
      ]
     },
     "execution_count": 24,
     "metadata": {},
     "output_type": "execute_result"
    }
   ],
   "source": [
    "ret.corr()"
   ]
  },
  {
   "cell_type": "code",
   "execution_count": 41,
   "id": "bda7ab0b",
   "metadata": {},
   "outputs": [],
   "source": [
    "def CompareVariance(starttime,endtime,tickers,weight):\n",
    "    returns=getReturns(starttime,endtime,tickers)\n",
    "    tmp= weights*returns\n",
    "    returns[\"Portfolio\"]= tmp[tmp.columns[0]]+tmp[tmp.columns[1]]+tmp[tmp.columns[2]]\n",
    "    std=returns.std()\n",
    "    avgRet=returns.mean()\n",
    "    res=pd.concat([avgRet*100,std],axis=1)\n",
    "    res.columns=[\"Daily Avg Return\",\"Std return\"]\n",
    "    return res.round(3)"
   ]
  },
  {
   "cell_type": "code",
   "execution_count": 42,
   "id": "945efd0c",
   "metadata": {},
   "outputs": [
    {
     "name": "stdout",
     "output_type": "stream",
     "text": [
      "[*********************100%***********************]  3 of 3 completed\n"
     ]
    },
    {
     "data": {
      "text/html": [
       "<div>\n",
       "<style scoped>\n",
       "    .dataframe tbody tr th:only-of-type {\n",
       "        vertical-align: middle;\n",
       "    }\n",
       "\n",
       "    .dataframe tbody tr th {\n",
       "        vertical-align: top;\n",
       "    }\n",
       "\n",
       "    .dataframe thead th {\n",
       "        text-align: right;\n",
       "    }\n",
       "</style>\n",
       "<table border=\"1\" class=\"dataframe\">\n",
       "  <thead>\n",
       "    <tr style=\"text-align: right;\">\n",
       "      <th></th>\n",
       "      <th>Daily Avg Return</th>\n",
       "      <th>Std return</th>\n",
       "    </tr>\n",
       "  </thead>\n",
       "  <tbody>\n",
       "    <tr>\n",
       "      <th>ICICIBANK</th>\n",
       "      <td>0.128</td>\n",
       "      <td>0.021</td>\n",
       "    </tr>\n",
       "    <tr>\n",
       "      <th>LT</th>\n",
       "      <td>0.077</td>\n",
       "      <td>0.018</td>\n",
       "    </tr>\n",
       "    <tr>\n",
       "      <th>TCS</th>\n",
       "      <td>0.064</td>\n",
       "      <td>0.016</td>\n",
       "    </tr>\n",
       "    <tr>\n",
       "      <th>Portfolio</th>\n",
       "      <td>0.074</td>\n",
       "      <td>0.013</td>\n",
       "    </tr>\n",
       "  </tbody>\n",
       "</table>\n",
       "</div>"
      ],
      "text/plain": [
       "           Daily Avg Return  Std return\n",
       "ICICIBANK             0.128       0.021\n",
       "LT                    0.077       0.018\n",
       "TCS                   0.064       0.016\n",
       "Portfolio             0.074       0.013"
      ]
     },
     "execution_count": 42,
     "metadata": {},
     "output_type": "execute_result"
    }
   ],
   "source": [
    "CompareVariance(start,end,{\"ICICIBANK.NS\":\"ICICIBANK\",\"LT.NS\":\"LT\",\"TCS.NS\":\"TCS\"},[0.4,0.4,0.2])"
   ]
  },
  {
   "cell_type": "code",
   "execution_count": null,
   "id": "73046b31",
   "metadata": {},
   "outputs": [],
   "source": []
  }
 ],
 "metadata": {
  "kernelspec": {
   "display_name": "Python 3 (ipykernel)",
   "language": "python",
   "name": "python3"
  },
  "language_info": {
   "codemirror_mode": {
    "name": "ipython",
    "version": 3
   },
   "file_extension": ".py",
   "mimetype": "text/x-python",
   "name": "python",
   "nbconvert_exporter": "python",
   "pygments_lexer": "ipython3",
   "version": "3.9.13"
  }
 },
 "nbformat": 4,
 "nbformat_minor": 5
}
