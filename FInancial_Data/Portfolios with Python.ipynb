{
 "cells": [
  {
   "cell_type": "code",
   "execution_count": 26,
   "id": "ef10fa9d",
   "metadata": {},
   "outputs": [],
   "source": [
    "import pandas_datareader.data as web\n",
    "import math\n",
    "import numpy as np\n",
    "import seaborn as sns\n",
    "import matplotlib.pyplot as plt\n",
    "import yfinance as yfin\n",
    "import datetime\n",
    "\n",
    "yfin.pdr_override()"
   ]
  },
  {
   "cell_type": "markdown",
   "id": "9536fcc2",
   "metadata": {},
   "source": [
    "## Portfolios Return"
   ]
  },
  {
   "cell_type": "code",
   "execution_count": 27,
   "id": "bd61d8cf",
   "metadata": {},
   "outputs": [
    {
     "data": {
      "text/plain": [
       "(datetime.date(2018, 7, 10), datetime.date(2023, 7, 9))"
      ]
     },
     "execution_count": 27,
     "metadata": {},
     "output_type": "execute_result"
    }
   ],
   "source": [
    "end=datetime.date.today()\n",
    "start=end-datetime.timedelta(365*5)\n",
    "start,end"
   ]
  },
  {
   "cell_type": "code",
   "execution_count": 28,
   "id": "aa2404b6",
   "metadata": {},
   "outputs": [
    {
     "name": "stdout",
     "output_type": "stream",
     "text": [
      "[*********************100%***********************]  3 of 3 completed\n"
     ]
    }
   ],
   "source": [
    "prices=web.DataReader([\"LT.NS\",\"TCS.NS\",\"ICICIBANK.NS\"],start,end)[\"Adj Close\"]"
   ]
  },
  {
   "cell_type": "code",
   "execution_count": 30,
   "id": "6d32a2b8",
   "metadata": {},
   "outputs": [
    {
     "data": {
      "text/html": [
       "<div>\n",
       "<style scoped>\n",
       "    .dataframe tbody tr th:only-of-type {\n",
       "        vertical-align: middle;\n",
       "    }\n",
       "\n",
       "    .dataframe tbody tr th {\n",
       "        vertical-align: top;\n",
       "    }\n",
       "\n",
       "    .dataframe thead th {\n",
       "        text-align: right;\n",
       "    }\n",
       "</style>\n",
       "<table border=\"1\" class=\"dataframe\">\n",
       "  <thead>\n",
       "    <tr style=\"text-align: right;\">\n",
       "      <th></th>\n",
       "      <th>ICICIBANK.NS</th>\n",
       "      <th>LT.NS</th>\n",
       "      <th>TCS.NS</th>\n",
       "    </tr>\n",
       "    <tr>\n",
       "      <th>Date</th>\n",
       "      <th></th>\n",
       "      <th></th>\n",
       "      <th></th>\n",
       "    </tr>\n",
       "  </thead>\n",
       "  <tbody>\n",
       "    <tr>\n",
       "      <th>2018-07-10</th>\n",
       "      <td>265.490631</td>\n",
       "      <td>1172.514648</td>\n",
       "      <td>1684.149902</td>\n",
       "    </tr>\n",
       "    <tr>\n",
       "      <th>2018-07-11</th>\n",
       "      <td>260.975159</td>\n",
       "      <td>1163.524170</td>\n",
       "      <td>1778.277466</td>\n",
       "    </tr>\n",
       "    <tr>\n",
       "      <th>2018-07-12</th>\n",
       "      <td>264.422455</td>\n",
       "      <td>1186.342896</td>\n",
       "      <td>1770.598267</td>\n",
       "    </tr>\n",
       "    <tr>\n",
       "      <th>2018-07-13</th>\n",
       "      <td>260.004120</td>\n",
       "      <td>1185.110718</td>\n",
       "      <td>1779.355591</td>\n",
       "    </tr>\n",
       "    <tr>\n",
       "      <th>2018-07-16</th>\n",
       "      <td>251.750015</td>\n",
       "      <td>1171.145630</td>\n",
       "      <td>1786.630249</td>\n",
       "    </tr>\n",
       "  </tbody>\n",
       "</table>\n",
       "</div>"
      ],
      "text/plain": [
       "            ICICIBANK.NS        LT.NS       TCS.NS\n",
       "Date                                              \n",
       "2018-07-10    265.490631  1172.514648  1684.149902\n",
       "2018-07-11    260.975159  1163.524170  1778.277466\n",
       "2018-07-12    264.422455  1186.342896  1770.598267\n",
       "2018-07-13    260.004120  1185.110718  1779.355591\n",
       "2018-07-16    251.750015  1171.145630  1786.630249"
      ]
     },
     "execution_count": 30,
     "metadata": {},
     "output_type": "execute_result"
    }
   ],
   "source": [
    "prices.head()"
   ]
  },
  {
   "cell_type": "markdown",
   "id": "0871cbfb",
   "metadata": {},
   "source": [
    "Assumption: Bough 100 shares of each 5 years ag0"
   ]
  },
  {
   "cell_type": "code",
   "execution_count": 34,
   "id": "f885afd0",
   "metadata": {},
   "outputs": [],
   "source": [
    "#Initial Prices\n",
    "\n",
    "initial_LT= prices[\"LT.NS\"][0]\n",
    "initial_TCS= prices[\"TCS.NS\"][0]\n",
    "initial_ICICIBANK= prices[\"ICICIBANK.NS\"][0]\n",
    "\n",
    "#Final Prices\n",
    "final_LT= prices[\"LT.NS\"][-1]\n",
    "final_TCS= prices[\"TCS.NS\"][-1]\n",
    "final_ICICIBANK= prices[\"ICICIBANK.NS\"][-1]\n",
    "\n",
    "#Weights\n",
    "weight_LT= initial_LT/(initial_ICICIBANK+initial_LT+initial_TCS)\n",
    "weight_TCS= initial_TCS/(initial_ICICIBANK+initial_LT+initial_TCS)\n",
    "weight_ICICIBANK= initial_ICICIBANK/(initial_ICICIBANK+initial_LT+initial_TCS)"
   ]
  },
  {
   "cell_type": "code",
   "execution_count": 37,
   "id": "f1171be5",
   "metadata": {},
   "outputs": [
    {
     "name": "stdout",
     "output_type": "stream",
     "text": [
      "We have initial investmetn in ICICIBANK Of 26549.063, in LT of 117251.465, and in TCS of 168414.990\n"
     ]
    }
   ],
   "source": [
    "print(\"We have initial investmetn in ICICIBANK Of %.3f, in LT of %.3f, and in TCS of %.3f\"\n",
    "      %(initial_ICICIBANK*100,initial_LT*100,initial_TCS*100)\n",
    "     )"
   ]
  },
  {
   "cell_type": "code",
   "execution_count": 38,
   "id": "85fe5354",
   "metadata": {},
   "outputs": [
    {
     "name": "stdout",
     "output_type": "stream",
     "text": [
      "The weight of ICICIBANK in total portfolio is 0.085, of LT is 0.376, and of TCS is 0.539\n"
     ]
    }
   ],
   "source": [
    "print(\n",
    "    \"The weight of ICICIBANK in total portfolio is %.3f, of LT is %.3f, and of TCS is %.3f\"\n",
    "    %(weight_ICICIBANK,weight_LT,weight_TCS)\n",
    ")"
   ]
  },
  {
   "cell_type": "code",
   "execution_count": 39,
   "id": "cf6f64a2",
   "metadata": {},
   "outputs": [],
   "source": [
    "# Return Calculation\n",
    "return_ICICIBANK=100*(final_ICICIBANK-initial_ICICIBANK)/initial_ICICIBANK\n",
    "return_LT=100*(final_LT-initial_LT)/initial_LT\n",
    "return_TCS=100*(final_TCS-initial_TCS)/initial_TCS\n"
   ]
  },
  {
   "cell_type": "code",
   "execution_count": 41,
   "id": "f9e79694",
   "metadata": {},
   "outputs": [
    {
     "name": "stdout",
     "output_type": "stream",
     "text": [
      "The overall return of ICICIBANK is 256.47%, of LT is 108.90%, and of TCS is 97.68%\n"
     ]
    }
   ],
   "source": [
    "print(\n",
    "    \"The overall return of ICICIBANK is %.2f%%, of LT is %.2f%%, and of TCS is %.2f%%\"\n",
    "    %(return_ICICIBANK,return_LT,return_TCS)\n",
    ")"
   ]
  },
  {
   "cell_type": "code",
   "execution_count": 42,
   "id": "f4fba7f5",
   "metadata": {},
   "outputs": [
    {
     "name": "stdout",
     "output_type": "stream",
     "text": [
      "The overall return of portfolio is 115.40%\n"
     ]
    }
   ],
   "source": [
    "print(\n",
    "    \"The overall return of portfolio is %.2f%%\"\n",
    "    %(weight_ICICIBANK*return_ICICIBANK+weight_LT*return_LT+weight_TCS*return_TCS)\n",
    ")"
   ]
  },
  {
   "cell_type": "markdown",
   "id": "68c85dfc",
   "metadata": {},
   "source": [
    "## Portfolio Variance"
   ]
  },
  {
   "cell_type": "code",
   "execution_count": 51,
   "id": "acb22634",
   "metadata": {},
   "outputs": [],
   "source": [
    "weights= np.array([weight_ICICIBANK,weight_LT,weight_TCS])\n",
    "returns=prices.pct_change()\n",
    "covariance=25*returns.cov()"
   ]
  },
  {
   "cell_type": "code",
   "execution_count": 52,
   "id": "e501d809",
   "metadata": {},
   "outputs": [
    {
     "name": "stdout",
     "output_type": "stream",
     "text": [
      "0.44209999999999994%\n"
     ]
    }
   ],
   "source": [
    "variance=np.dot(weights.T,np.dot(covariance,weights))\n",
    "\n",
    "print(str(np.round(variance,6)*100)+\"%\")"
   ]
  },
  {
   "cell_type": "markdown",
   "id": "d2f7ac20",
   "metadata": {},
   "source": [
    "### Comparing Portfolio Variance with each individual variance"
   ]
  },
  {
   "cell_type": "code",
   "execution_count": 53,
   "id": "a67eeb7f",
   "metadata": {},
   "outputs": [
    {
     "data": {
      "text/plain": [
       "ICICIBANK.NS    0.116190\n",
       "LT.NS           0.080974\n",
       "TCS.NS          0.064481\n",
       "dtype: float64"
      ]
     },
     "execution_count": 53,
     "metadata": {},
     "output_type": "execute_result"
    }
   ],
   "source": [
    "returns.var()*252"
   ]
  },
  {
   "cell_type": "markdown",
   "id": "0aa9d796",
   "metadata": {},
   "source": [
    "The variance of the portfolio is very low than that of the individual equities"
   ]
  },
  {
   "cell_type": "markdown",
   "id": "a7984b06",
   "metadata": {},
   "source": [
    "**Standard Deviation**"
   ]
  },
  {
   "cell_type": "code",
   "execution_count": 55,
   "id": "b0dc8343",
   "metadata": {},
   "outputs": [
    {
     "data": {
      "text/plain": [
       "6.65"
      ]
     },
     "execution_count": 55,
     "metadata": {},
     "output_type": "execute_result"
    }
   ],
   "source": [
    "np.round(math.sqrt(variance)*100,2)"
   ]
  },
  {
   "cell_type": "markdown",
   "id": "9d015b26",
   "metadata": {},
   "source": [
    "The Standard Deviation of the portfolio is around 6.65%"
   ]
  },
  {
   "cell_type": "markdown",
   "id": "0c41961a",
   "metadata": {},
   "source": [
    "### Sharpe ratio of the portfolio"
   ]
  },
  {
   "cell_type": "code",
   "execution_count": 59,
   "id": "7af37799",
   "metadata": {},
   "outputs": [
    {
     "data": {
      "text/plain": [
       "3.470559036631899"
      ]
     },
     "execution_count": 59,
     "metadata": {},
     "output_type": "execute_result"
    }
   ],
   "source": [
    "sharpe= np.dot(weights.T,[return_ICICIBANK,return_LT,return_TCS])/5/6.65\n",
    "\n",
    "#divided  by 5 to get approximate 1 year return\n",
    "sharpe"
   ]
  },
  {
   "cell_type": "code",
   "execution_count": null,
   "id": "6f88c01c",
   "metadata": {},
   "outputs": [],
   "source": []
  }
 ],
 "metadata": {
  "kernelspec": {
   "display_name": "Python 3 (ipykernel)",
   "language": "python",
   "name": "python3"
  },
  "language_info": {
   "codemirror_mode": {
    "name": "ipython",
    "version": 3
   },
   "file_extension": ".py",
   "mimetype": "text/x-python",
   "name": "python",
   "nbconvert_exporter": "python",
   "pygments_lexer": "ipython3",
   "version": "3.9.13"
  }
 },
 "nbformat": 4,
 "nbformat_minor": 5
}
