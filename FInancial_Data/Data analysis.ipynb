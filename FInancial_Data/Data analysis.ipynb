{
 "cells": [
  {
   "cell_type": "code",
   "execution_count": 42,
   "id": "4c96dc4c",
   "metadata": {},
   "outputs": [],
   "source": [
    "import datetime\n",
    "from datetime import date\n",
    "\n",
    "import numpy as np\n",
    "import pandas as pd\n",
    "import pandas_datareader.data as web\n",
    "\n",
    "'''pandas_datareader.data module is a part of the pandas_datareader library,\n",
    "     which is used for retrieving financial and economic data from various online sources.\n",
    "'''\n",
    "import seaborn as sns\n",
    "from matplotlib import pyplot as plt\n",
    "\n",
    "\n",
    "import yfinance as yfin\n",
    "yfin.pdr_override()\n",
    "\n",
    "#'''overrides all the other data sources no need to specify the source'''"
   ]
  },
  {
   "cell_type": "markdown",
   "id": "ee5d910f",
   "metadata": {},
   "source": [
    "## Pulling Data"
   ]
  },
  {
   "cell_type": "code",
   "execution_count": 43,
   "id": "ae3786e2",
   "metadata": {},
   "outputs": [],
   "source": [
    "start= datetime.date.today()-datetime.timedelta(days=5*365)\n",
    "end=datetime.date.today()\n",
    "\n",
    "#timedelta is used to specify the duration of time"
   ]
  },
  {
   "cell_type": "code",
   "execution_count": 44,
   "id": "0c3840ab",
   "metadata": {},
   "outputs": [
    {
     "name": "stdout",
     "output_type": "stream",
     "text": [
      "[*********************100%***********************]  3 of 3 completed\n"
     ]
    },
    {
     "data": {
      "text/html": [
       "<div>\n",
       "<style scoped>\n",
       "    .dataframe tbody tr th:only-of-type {\n",
       "        vertical-align: middle;\n",
       "    }\n",
       "\n",
       "    .dataframe tbody tr th {\n",
       "        vertical-align: top;\n",
       "    }\n",
       "\n",
       "    .dataframe thead th {\n",
       "        text-align: right;\n",
       "    }\n",
       "</style>\n",
       "<table border=\"1\" class=\"dataframe\">\n",
       "  <thead>\n",
       "    <tr style=\"text-align: right;\">\n",
       "      <th></th>\n",
       "      <th>ICICIBANK.NS</th>\n",
       "      <th>LT.NS</th>\n",
       "      <th>TCS.NS</th>\n",
       "    </tr>\n",
       "    <tr>\n",
       "      <th>Date</th>\n",
       "      <th></th>\n",
       "      <th></th>\n",
       "      <th></th>\n",
       "    </tr>\n",
       "  </thead>\n",
       "  <tbody>\n",
       "    <tr>\n",
       "      <th>2018-07-06</th>\n",
       "      <td>262.237549</td>\n",
       "      <td>1155.811401</td>\n",
       "      <td>1718.145386</td>\n",
       "    </tr>\n",
       "    <tr>\n",
       "      <th>2018-07-09</th>\n",
       "      <td>263.354309</td>\n",
       "      <td>1175.617920</td>\n",
       "      <td>1691.245483</td>\n",
       "    </tr>\n",
       "    <tr>\n",
       "      <th>2018-07-10</th>\n",
       "      <td>265.490601</td>\n",
       "      <td>1172.514648</td>\n",
       "      <td>1684.150024</td>\n",
       "    </tr>\n",
       "    <tr>\n",
       "      <th>2018-07-11</th>\n",
       "      <td>260.975189</td>\n",
       "      <td>1163.524170</td>\n",
       "      <td>1778.277710</td>\n",
       "    </tr>\n",
       "    <tr>\n",
       "      <th>2018-07-12</th>\n",
       "      <td>264.422485</td>\n",
       "      <td>1186.342773</td>\n",
       "      <td>1770.598389</td>\n",
       "    </tr>\n",
       "    <tr>\n",
       "      <th>...</th>\n",
       "      <td>...</td>\n",
       "      <td>...</td>\n",
       "      <td>...</td>\n",
       "    </tr>\n",
       "    <tr>\n",
       "      <th>2023-06-27</th>\n",
       "      <td>936.099976</td>\n",
       "      <td>2388.050049</td>\n",
       "      <td>3197.350098</td>\n",
       "    </tr>\n",
       "    <tr>\n",
       "      <th>2023-06-29</th>\n",
       "      <td>936.099976</td>\n",
       "      <td>2388.050049</td>\n",
       "      <td>3197.350098</td>\n",
       "    </tr>\n",
       "    <tr>\n",
       "      <th>2023-06-30</th>\n",
       "      <td>934.599976</td>\n",
       "      <td>2475.550049</td>\n",
       "      <td>3302.250000</td>\n",
       "    </tr>\n",
       "    <tr>\n",
       "      <th>2023-07-03</th>\n",
       "      <td>942.549988</td>\n",
       "      <td>2454.050049</td>\n",
       "      <td>3272.300049</td>\n",
       "    </tr>\n",
       "    <tr>\n",
       "      <th>2023-07-04</th>\n",
       "      <td>944.700012</td>\n",
       "      <td>2461.850098</td>\n",
       "      <td>3308.850098</td>\n",
       "    </tr>\n",
       "  </tbody>\n",
       "</table>\n",
       "<p>1232 rows × 3 columns</p>\n",
       "</div>"
      ],
      "text/plain": [
       "            ICICIBANK.NS        LT.NS       TCS.NS\n",
       "Date                                              \n",
       "2018-07-06    262.237549  1155.811401  1718.145386\n",
       "2018-07-09    263.354309  1175.617920  1691.245483\n",
       "2018-07-10    265.490601  1172.514648  1684.150024\n",
       "2018-07-11    260.975189  1163.524170  1778.277710\n",
       "2018-07-12    264.422485  1186.342773  1770.598389\n",
       "...                  ...          ...          ...\n",
       "2023-06-27    936.099976  2388.050049  3197.350098\n",
       "2023-06-29    936.099976  2388.050049  3197.350098\n",
       "2023-06-30    934.599976  2475.550049  3302.250000\n",
       "2023-07-03    942.549988  2454.050049  3272.300049\n",
       "2023-07-04    944.700012  2461.850098  3308.850098\n",
       "\n",
       "[1232 rows x 3 columns]"
      ]
     },
     "execution_count": 44,
     "metadata": {},
     "output_type": "execute_result"
    }
   ],
   "source": [
    "df= web.DataReader([\"TCS.NS\",\"LT.NS\",\"ICICIBANK.NS\"],start,end)[\"Adj Close\"]\n",
    "df"
   ]
  },
  {
   "cell_type": "code",
   "execution_count": 45,
   "id": "fd19f4f4",
   "metadata": {},
   "outputs": [
    {
     "name": "stdout",
     "output_type": "stream",
     "text": [
      "<class 'pandas.core.frame.DataFrame'>\n",
      "DatetimeIndex: 1232 entries, 2018-07-06 to 2023-07-04\n",
      "Data columns (total 3 columns):\n",
      " #   Column        Non-Null Count  Dtype  \n",
      "---  ------        --------------  -----  \n",
      " 0   ICICIBANK.NS  1232 non-null   float64\n",
      " 1   LT.NS         1232 non-null   float64\n",
      " 2   TCS.NS        1232 non-null   float64\n",
      "dtypes: float64(3)\n",
      "memory usage: 38.5 KB\n"
     ]
    }
   ],
   "source": [
    "df.info()"
   ]
  },
  {
   "cell_type": "code",
   "execution_count": 46,
   "id": "9c0e2627",
   "metadata": {},
   "outputs": [
    {
     "data": {
      "text/html": [
       "<div>\n",
       "<style scoped>\n",
       "    .dataframe tbody tr th:only-of-type {\n",
       "        vertical-align: middle;\n",
       "    }\n",
       "\n",
       "    .dataframe tbody tr th {\n",
       "        vertical-align: top;\n",
       "    }\n",
       "\n",
       "    .dataframe thead th {\n",
       "        text-align: right;\n",
       "    }\n",
       "</style>\n",
       "<table border=\"1\" class=\"dataframe\">\n",
       "  <thead>\n",
       "    <tr style=\"text-align: right;\">\n",
       "      <th></th>\n",
       "      <th>ICICIBANK.NS</th>\n",
       "      <th>LT.NS</th>\n",
       "      <th>TCS.NS</th>\n",
       "    </tr>\n",
       "  </thead>\n",
       "  <tbody>\n",
       "    <tr>\n",
       "      <th>count</th>\n",
       "      <td>1232.000000</td>\n",
       "      <td>1232.000000</td>\n",
       "      <td>1232.000000</td>\n",
       "    </tr>\n",
       "    <tr>\n",
       "      <th>mean</th>\n",
       "      <td>580.392161</td>\n",
       "      <td>1473.425573</td>\n",
       "      <td>2618.892534</td>\n",
       "    </tr>\n",
       "    <tr>\n",
       "      <th>std</th>\n",
       "      <td>207.789442</td>\n",
       "      <td>411.041274</td>\n",
       "      <td>678.385897</td>\n",
       "    </tr>\n",
       "    <tr>\n",
       "      <th>min</th>\n",
       "      <td>251.749985</td>\n",
       "      <td>672.131897</td>\n",
       "      <td>1538.805176</td>\n",
       "    </tr>\n",
       "    <tr>\n",
       "      <th>25%</th>\n",
       "      <td>382.394081</td>\n",
       "      <td>1216.143646</td>\n",
       "      <td>1930.216492</td>\n",
       "    </tr>\n",
       "    <tr>\n",
       "      <th>50%</th>\n",
       "      <td>537.714325</td>\n",
       "      <td>1367.959045</td>\n",
       "      <td>2808.876099</td>\n",
       "    </tr>\n",
       "    <tr>\n",
       "      <th>75%</th>\n",
       "      <td>748.980423</td>\n",
       "      <td>1783.152466</td>\n",
       "      <td>3217.958862</td>\n",
       "    </tr>\n",
       "    <tr>\n",
       "      <th>max</th>\n",
       "      <td>954.299988</td>\n",
       "      <td>2475.550049</td>\n",
       "      <td>3857.104248</td>\n",
       "    </tr>\n",
       "  </tbody>\n",
       "</table>\n",
       "</div>"
      ],
      "text/plain": [
       "       ICICIBANK.NS        LT.NS       TCS.NS\n",
       "count   1232.000000  1232.000000  1232.000000\n",
       "mean     580.392161  1473.425573  2618.892534\n",
       "std      207.789442   411.041274   678.385897\n",
       "min      251.749985   672.131897  1538.805176\n",
       "25%      382.394081  1216.143646  1930.216492\n",
       "50%      537.714325  1367.959045  2808.876099\n",
       "75%      748.980423  1783.152466  3217.958862\n",
       "max      954.299988  2475.550049  3857.104248"
      ]
     },
     "execution_count": 46,
     "metadata": {},
     "output_type": "execute_result"
    }
   ],
   "source": [
    "df.describe()"
   ]
  },
  {
   "cell_type": "markdown",
   "id": "a92b8818",
   "metadata": {},
   "source": [
    "## Price Chart & Return Calculation"
   ]
  },
  {
   "cell_type": "code",
   "execution_count": 47,
   "id": "6f3922cb",
   "metadata": {},
   "outputs": [
    {
     "data": {
      "image/png": "[encoded data removed]",
      "text/plain": [
       "<Figure size 640x480 with 1 Axes>"
      ]
     },
     "metadata": {},
     "output_type": "display_data"
    }
   ],
   "source": [
    "df.plot();"
   ]
  },
  {
   "cell_type": "code",
   "execution_count": 48,
   "id": "cdf562df",
   "metadata": {},
   "outputs": [],
   "source": [
    "##Return Calculation\n",
    "\n",
    "df[\"ICICIBANK\"]=np.log(df[\"ICICIBANK.NS\"])-np.log(df[\"ICICIBANK.NS\"].shift(1))\n",
    "df[\"LT\"]=np.log(df[\"LT.NS\"])-np.log(df[\"LT.NS\"].shift(1))\n",
    "df[\"TCS\"]=np.log(df[\"TCS.NS\"])-np.log(df[\"TCS.NS\"].shift(1))\n",
    "\n",
    "\n",
    "#.shift()  gives the value at the previous day\n",
    "\n",
    "#Advantage of log return is that they are additive in nature"
   ]
  },
  {
   "cell_type": "code",
   "execution_count": 49,
   "id": "6444e0f0",
   "metadata": {},
   "outputs": [],
   "source": [
    "ret= df.iloc[1:,3:]\n",
    "\n",
    "#removing the first row because the return can;t be calculated for this and keeping only return columns"
   ]
  },
  {
   "cell_type": "code",
   "execution_count": 50,
   "id": "0729b292",
   "metadata": {},
   "outputs": [
    {
     "data": {
      "text/html": [
       "<div>\n",
       "<style scoped>\n",
       "    .dataframe tbody tr th:only-of-type {\n",
       "        vertical-align: middle;\n",
       "    }\n",
       "\n",
       "    .dataframe tbody tr th {\n",
       "        vertical-align: top;\n",
       "    }\n",
       "\n",
       "    .dataframe thead th {\n",
       "        text-align: right;\n",
       "    }\n",
       "</style>\n",
       "<table border=\"1\" class=\"dataframe\">\n",
       "  <thead>\n",
       "    <tr style=\"text-align: right;\">\n",
       "      <th></th>\n",
       "      <th>ICICIBANK</th>\n",
       "      <th>LT</th>\n",
       "      <th>TCS</th>\n",
       "    </tr>\n",
       "  </thead>\n",
       "  <tbody>\n",
       "    <tr>\n",
       "      <th>count</th>\n",
       "      <td>1231.000000</td>\n",
       "      <td>1231.000000</td>\n",
       "      <td>1231.000000</td>\n",
       "    </tr>\n",
       "    <tr>\n",
       "      <th>mean</th>\n",
       "      <td>0.001041</td>\n",
       "      <td>0.000614</td>\n",
       "      <td>0.000532</td>\n",
       "    </tr>\n",
       "    <tr>\n",
       "      <th>std</th>\n",
       "      <td>0.021535</td>\n",
       "      <td>0.017978</td>\n",
       "      <td>0.016021</td>\n",
       "    </tr>\n",
       "    <tr>\n",
       "      <th>min</th>\n",
       "      <td>-0.196597</td>\n",
       "      <td>-0.177522</td>\n",
       "      <td>-0.098830</td>\n",
       "    </tr>\n",
       "    <tr>\n",
       "      <th>25%</th>\n",
       "      <td>-0.009547</td>\n",
       "      <td>-0.008581</td>\n",
       "      <td>-0.007429</td>\n",
       "    </tr>\n",
       "    <tr>\n",
       "      <th>50%</th>\n",
       "      <td>0.000813</td>\n",
       "      <td>0.000276</td>\n",
       "      <td>0.000636</td>\n",
       "    </tr>\n",
       "    <tr>\n",
       "      <th>75%</th>\n",
       "      <td>0.011208</td>\n",
       "      <td>0.009444</td>\n",
       "      <td>0.008889</td>\n",
       "    </tr>\n",
       "    <tr>\n",
       "      <th>max</th>\n",
       "      <td>0.128942</td>\n",
       "      <td>0.090162</td>\n",
       "      <td>0.093901</td>\n",
       "    </tr>\n",
       "  </tbody>\n",
       "</table>\n",
       "</div>"
      ],
      "text/plain": [
       "         ICICIBANK           LT          TCS\n",
       "count  1231.000000  1231.000000  1231.000000\n",
       "mean      0.001041     0.000614     0.000532\n",
       "std       0.021535     0.017978     0.016021\n",
       "min      -0.196597    -0.177522    -0.098830\n",
       "25%      -0.009547    -0.008581    -0.007429\n",
       "50%       0.000813     0.000276     0.000636\n",
       "75%       0.011208     0.009444     0.008889\n",
       "max       0.128942     0.090162     0.093901"
      ]
     },
     "execution_count": 50,
     "metadata": {},
     "output_type": "execute_result"
    }
   ],
   "source": [
    "ret.describe()"
   ]
  },
  {
   "cell_type": "code",
   "execution_count": 51,
   "id": "bb747cf1",
   "metadata": {},
   "outputs": [
    {
     "name": "stdout",
     "output_type": "stream",
     "text": [
      "<class 'pandas.core.frame.DataFrame'>\n",
      "DatetimeIndex: 1231 entries, 2018-07-09 to 2023-07-04\n",
      "Data columns (total 3 columns):\n",
      " #   Column     Non-Null Count  Dtype  \n",
      "---  ------     --------------  -----  \n",
      " 0   ICICIBANK  1231 non-null   float64\n",
      " 1   LT         1231 non-null   float64\n",
      " 2   TCS        1231 non-null   float64\n",
      "dtypes: float64(3)\n",
      "memory usage: 38.5 KB\n"
     ]
    }
   ],
   "source": [
    "ret.info()"
   ]
  },
  {
   "cell_type": "code",
   "execution_count": 52,
   "id": "5f72a482",
   "metadata": {},
   "outputs": [
    {
     "data": {
      "text/plain": [
       "ICICIBANK    46.200753\n",
       "LT           25.122512\n",
       "TCS          21.441886\n",
       "dtype: float64"
      ]
     },
     "execution_count": 52,
     "metadata": {},
     "output_type": "execute_result"
    }
   ],
   "source": [
    "#Calculating Annual return\n",
    "\n",
    "((ret.mean()+1).pow(365)-1)*100"
   ]
  },
  {
   "cell_type": "markdown",
   "id": "d1b8b9de",
   "metadata": {},
   "source": [
    "## Volatility"
   ]
  },
  {
   "cell_type": "code",
   "execution_count": 53,
   "id": "6158db45",
   "metadata": {},
   "outputs": [
    {
     "data": {
      "text/plain": [
       "ICICIBANK.NS     702.550003\n",
       "LT.NS           1803.418152\n",
       "TCS.NS          2318.299072\n",
       "ICICIBANK          0.325539\n",
       "LT                 0.267685\n",
       "TCS                0.192731\n",
       "dtype: float64"
      ]
     },
     "execution_count": 53,
     "metadata": {},
     "output_type": "execute_result"
    }
   ],
   "source": [
    "band= df.max()-df.min()\n",
    "band"
   ]
  },
  {
   "cell_type": "code",
   "execution_count": 54,
   "id": "7c9bad4f",
   "metadata": {},
   "outputs": [
    {
     "data": {
      "text/plain": [
       "ICICIBANK.NS    239.141602\n",
       "LT.NS           939.076050\n",
       "TCS.NS          638.006836\n",
       "ICICIBANK         0.081656\n",
       "LT                0.099412\n",
       "TCS               0.082514\n",
       "dtype: float64"
      ]
     },
     "execution_count": 54,
     "metadata": {},
     "output_type": "execute_result"
    }
   ],
   "source": [
    "currYear= df.loc[date.today()-datetime.timedelta(365):date.today()]\n",
    "currYear.max()-currYear.min()\n",
    "\n",
    "\n",
    "# .loc label based indexing like in this case date\n",
    "#.iloc integer based indexing like in previous case of log return"
   ]
  },
  {
   "cell_type": "markdown",
   "id": "b881eb48",
   "metadata": {},
   "source": [
    "## Moving Avergae"
   ]
  },
  {
   "cell_type": "code",
   "execution_count": 59,
   "id": "5e7bd206",
   "metadata": {},
   "outputs": [
    {
     "data": {
      "text/plain": [
       "<AxesSubplot:xlabel='Date', ylabel='ICICIBANK.NS'>"
      ]
     },
     "execution_count": 59,
     "metadata": {},
     "output_type": "execute_result"
    },
    {
     "data": {
      "image/png": "[encoded data removed]",
      "text/plain": [
       "<Figure size 1200x500 with 1 Axes>"
      ]
     },
     "metadata": {},
     "output_type": "display_data"
    }
   ],
   "source": [
    "# 50 day moving average\n",
    "\n",
    "df[\"ICICI_50_day\"]=df[\"ICICIBANK.NS\"].rolling(50).mean()\n",
    "\n",
    "plt.figure(figsize=(12,5))\n",
    "\n",
    "sns.lineplot(\n",
    "    x=\"Date\",y=\"ICICIBANK.NS\", data=df, label= \"Daily ICICI BANK Returns\"\n",
    ")\n",
    "\n",
    "sns.lineplot(\n",
    "    x=\"Date\", y=\"ICICI_50_day\", data= df, label=\" ICICI 50 day moving average\"\n",
    ")"
   ]
  },
  {
   "cell_type": "markdown",
   "id": "5fed2e71",
   "metadata": {},
   "source": [
    ".rolling(50): Creates a rolling window of size 50. This means that for each element in the \"ICICIBANK.NS\" column, it considers the current value along with the preceding 49 values to calculate the rolling mean.\n",
    "\n",
    "Creates 49 empty enteries"
   ]
  },
  {
   "cell_type": "code",
   "execution_count": 61,
   "id": "db9e41ac",
   "metadata": {},
   "outputs": [
    {
     "data": {
      "text/plain": [
       "ICICIBANK.NS    0.059894\n",
       "LT.NS           0.060858\n",
       "TCS.NS          0.042389\n",
       "dtype: float64"
      ]
     },
     "execution_count": 61,
     "metadata": {},
     "output_type": "execute_result"
    }
   ],
   "source": [
    "# 50 day Rolling distance\n",
    "#Distance between 50 day rolling average and that they price\n",
    "\n",
    "((abs(df.iloc[:,:3]-df.iloc[:,:3].rolling(50).mean()))/df.iloc[:,:3]).mean()"
   ]
  },
  {
   "cell_type": "code",
   "execution_count": 60,
   "id": "fb4b4e03",
   "metadata": {},
   "outputs": [
    {
     "data": {
      "text/html": [
       "<div>\n",
       "<style scoped>\n",
       "    .dataframe tbody tr th:only-of-type {\n",
       "        vertical-align: middle;\n",
       "    }\n",
       "\n",
       "    .dataframe tbody tr th {\n",
       "        vertical-align: top;\n",
       "    }\n",
       "\n",
       "    .dataframe thead th {\n",
       "        text-align: right;\n",
       "    }\n",
       "</style>\n",
       "<table border=\"1\" class=\"dataframe\">\n",
       "  <thead>\n",
       "    <tr style=\"text-align: right;\">\n",
       "      <th></th>\n",
       "      <th>ICICIBANK.NS</th>\n",
       "      <th>LT.NS</th>\n",
       "      <th>TCS.NS</th>\n",
       "    </tr>\n",
       "    <tr>\n",
       "      <th>Date</th>\n",
       "      <th></th>\n",
       "      <th></th>\n",
       "      <th></th>\n",
       "    </tr>\n",
       "  </thead>\n",
       "  <tbody>\n",
       "    <tr>\n",
       "      <th>2018-07-06</th>\n",
       "      <td>262.237549</td>\n",
       "      <td>1155.811401</td>\n",
       "      <td>1718.145386</td>\n",
       "    </tr>\n",
       "    <tr>\n",
       "      <th>2018-07-09</th>\n",
       "      <td>263.354309</td>\n",
       "      <td>1175.617920</td>\n",
       "      <td>1691.245483</td>\n",
       "    </tr>\n",
       "    <tr>\n",
       "      <th>2018-07-10</th>\n",
       "      <td>265.490601</td>\n",
       "      <td>1172.514648</td>\n",
       "      <td>1684.150024</td>\n",
       "    </tr>\n",
       "    <tr>\n",
       "      <th>2018-07-11</th>\n",
       "      <td>260.975189</td>\n",
       "      <td>1163.524170</td>\n",
       "      <td>1778.277710</td>\n",
       "    </tr>\n",
       "    <tr>\n",
       "      <th>2018-07-12</th>\n",
       "      <td>264.422485</td>\n",
       "      <td>1186.342773</td>\n",
       "      <td>1770.598389</td>\n",
       "    </tr>\n",
       "    <tr>\n",
       "      <th>...</th>\n",
       "      <td>...</td>\n",
       "      <td>...</td>\n",
       "      <td>...</td>\n",
       "    </tr>\n",
       "    <tr>\n",
       "      <th>2023-06-27</th>\n",
       "      <td>936.099976</td>\n",
       "      <td>2388.050049</td>\n",
       "      <td>3197.350098</td>\n",
       "    </tr>\n",
       "    <tr>\n",
       "      <th>2023-06-29</th>\n",
       "      <td>936.099976</td>\n",
       "      <td>2388.050049</td>\n",
       "      <td>3197.350098</td>\n",
       "    </tr>\n",
       "    <tr>\n",
       "      <th>2023-06-30</th>\n",
       "      <td>934.599976</td>\n",
       "      <td>2475.550049</td>\n",
       "      <td>3302.250000</td>\n",
       "    </tr>\n",
       "    <tr>\n",
       "      <th>2023-07-03</th>\n",
       "      <td>942.549988</td>\n",
       "      <td>2454.050049</td>\n",
       "      <td>3272.300049</td>\n",
       "    </tr>\n",
       "    <tr>\n",
       "      <th>2023-07-04</th>\n",
       "      <td>944.700012</td>\n",
       "      <td>2461.850098</td>\n",
       "      <td>3308.850098</td>\n",
       "    </tr>\n",
       "  </tbody>\n",
       "</table>\n",
       "<p>1232 rows × 3 columns</p>\n",
       "</div>"
      ],
      "text/plain": [
       "            ICICIBANK.NS        LT.NS       TCS.NS\n",
       "Date                                              \n",
       "2018-07-06    262.237549  1155.811401  1718.145386\n",
       "2018-07-09    263.354309  1175.617920  1691.245483\n",
       "2018-07-10    265.490601  1172.514648  1684.150024\n",
       "2018-07-11    260.975189  1163.524170  1778.277710\n",
       "2018-07-12    264.422485  1186.342773  1770.598389\n",
       "...                  ...          ...          ...\n",
       "2023-06-27    936.099976  2388.050049  3197.350098\n",
       "2023-06-29    936.099976  2388.050049  3197.350098\n",
       "2023-06-30    934.599976  2475.550049  3302.250000\n",
       "2023-07-03    942.549988  2454.050049  3272.300049\n",
       "2023-07-04    944.700012  2461.850098  3308.850098\n",
       "\n",
       "[1232 rows x 3 columns]"
      ]
     },
     "execution_count": 60,
     "metadata": {},
     "output_type": "execute_result"
    }
   ],
   "source": [
    "df.iloc[:,:3]"
   ]
  },
  {
   "cell_type": "markdown",
   "id": "5d96894e",
   "metadata": {},
   "source": [
    "## Combined Funciton for all of the above"
   ]
  },
  {
   "cell_type": "code",
   "execution_count": null,
   "id": "f47f3161",
   "metadata": {},
   "outputs": [],
   "source": [
    "def investCompare(starttime,endtime,tickers):\n",
    "    \n",
    "    #pull data\n",
    "    prices= web.DataReader(list(tickers.keys()),starttime,endtime)[\"Adj Close\"]\n",
    "    prices=prices.rename(columns=tickers)\n",
    "    \n",
    "    #return\n",
    "    ret= np.log(prices)-np.log(prices.shift(1))\n",
    "    ret= ret.iloc[1:,:]\n",
    "    \n",
    "    #analysing last year data\n",
    "    currYear= prices.loc[\n",
    "        date.today()-datetime.timedelta(365):date.today()\n",
    "    ]\n",
    "    highlow= (currYear.max()-currYear.min())/prices.iloc[-1]\n",
    "    highlow= pd.DataFrame(highlow,columns=\"HighminusLow\")\n",
    "    \n",
    "    #Moving Average Volatility\n",
    "    Ma=pd.Data"
   ]
  }
 ],
 "metadata": {
  "kernelspec": {
   "display_name": "Python 3 (ipykernel)",
   "language": "python",
   "name": "python3"
  },
  "language_info": {
   "codemirror_mode": {
    "name": "ipython",
    "version": 3
   },
   "file_extension": ".py",
   "mimetype": "text/x-python",
   "name": "python",
   "nbconvert_exporter": "python",
   "pygments_lexer": "ipython3",
   "version": "3.9.13"
  }
 },
 "nbformat": 4,
 "nbformat_minor": 5
}
