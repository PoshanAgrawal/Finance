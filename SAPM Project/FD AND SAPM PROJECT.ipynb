{
 "cells": [
  {
   "cell_type": "markdown",
   "id": "45015868",
   "metadata": {},
   "source": [
    "# Desgining a Portfolio benchmarking against Nifty IT index"
   ]
  },
  {
   "cell_type": "markdown",
   "id": "8ba647f1",
   "metadata": {},
   "source": [
    "### Importing Libraries"
   ]
  },
  {
   "cell_type": "code",
   "execution_count": 1,
   "id": "29efe01f",
   "metadata": {},
   "outputs": [],
   "source": [
    "import pandas_datareader.data as web\n",
    "import math\n",
    "import numpy as np\n",
    "import seaborn as sns\n",
    "import matplotlib.pyplot as plt\n",
    "import yfinance as yfin\n",
    "import datetime\n",
    "import pandas as pd\n",
    "yfin.pdr_override()"
   ]
  },
  {
   "cell_type": "markdown",
   "id": "15d423cc",
   "metadata": {},
   "source": [
    "## Getting Index ticker"
   ]
  },
  {
   "cell_type": "code",
   "execution_count": 26,
   "id": "258d2a2f",
   "metadata": {},
   "outputs": [],
   "source": [
    "#Importing IT company data taken from Screener\n",
    "df= pd.read_excel(\"Data sheet.xlsx\")\n",
    "df.rename(columns=lambda x: x.strip(), inplace=True)\n",
    "columns= df.columns\n"
   ]
  },
  {
   "cell_type": "code",
   "execution_count": 38,
   "id": "a115c761",
   "metadata": {},
   "outputs": [
    {
     "ename": "AttributeError",
     "evalue": "'DataFrame' object has no attribute 'strip'",
     "output_type": "error",
     "traceback": [
      "\u001b[1;31m---------------------------------------------------------------------------\u001b[0m",
      "\u001b[1;31mAttributeError\u001b[0m                            Traceback (most recent call last)",
      "\u001b[1;32m~\\AppData\\Local\\Temp\\ipykernel_18780\\307346154.py\u001b[0m in \u001b[0;36m<module>\u001b[1;34m\u001b[0m\n\u001b[0;32m      1\u001b[0m \u001b[0mdf\u001b[0m\u001b[1;33m.\u001b[0m\u001b[0mhead\u001b[0m\u001b[1;33m(\u001b[0m\u001b[1;33m)\u001b[0m\u001b[1;33m\u001b[0m\u001b[1;33m\u001b[0m\u001b[0m\n\u001b[1;32m----> 2\u001b[1;33m \u001b[0mdf\u001b[0m\u001b[1;33m.\u001b[0m\u001b[0mstrip\u001b[0m\u001b[1;33m(\u001b[0m\u001b[1;33m)\u001b[0m\u001b[1;33m\u001b[0m\u001b[1;33m\u001b[0m\u001b[0m\n\u001b[0m",
      "\u001b[1;32m~\\anaconda3\\lib\\site-packages\\pandas\\core\\generic.py\u001b[0m in \u001b[0;36m__getattr__\u001b[1;34m(self, name)\u001b[0m\n\u001b[0;32m   5573\u001b[0m         ):\n\u001b[0;32m   5574\u001b[0m             \u001b[1;32mreturn\u001b[0m \u001b[0mself\u001b[0m\u001b[1;33m[\u001b[0m\u001b[0mname\u001b[0m\u001b[1;33m]\u001b[0m\u001b[1;33m\u001b[0m\u001b[1;33m\u001b[0m\u001b[0m\n\u001b[1;32m-> 5575\u001b[1;33m         \u001b[1;32mreturn\u001b[0m \u001b[0mobject\u001b[0m\u001b[1;33m.\u001b[0m\u001b[0m__getattribute__\u001b[0m\u001b[1;33m(\u001b[0m\u001b[0mself\u001b[0m\u001b[1;33m,\u001b[0m \u001b[0mname\u001b[0m\u001b[1;33m)\u001b[0m\u001b[1;33m\u001b[0m\u001b[1;33m\u001b[0m\u001b[0m\n\u001b[0m\u001b[0;32m   5576\u001b[0m \u001b[1;33m\u001b[0m\u001b[0m\n\u001b[0;32m   5577\u001b[0m     \u001b[1;32mdef\u001b[0m \u001b[0m__setattr__\u001b[0m\u001b[1;33m(\u001b[0m\u001b[0mself\u001b[0m\u001b[1;33m,\u001b[0m \u001b[0mname\u001b[0m\u001b[1;33m:\u001b[0m \u001b[0mstr\u001b[0m\u001b[1;33m,\u001b[0m \u001b[0mvalue\u001b[0m\u001b[1;33m)\u001b[0m \u001b[1;33m->\u001b[0m \u001b[1;32mNone\u001b[0m\u001b[1;33m:\u001b[0m\u001b[1;33m\u001b[0m\u001b[1;33m\u001b[0m\u001b[0m\n",
      "\u001b[1;31mAttributeError\u001b[0m: 'DataFrame' object has no attribute 'strip'"
     ]
    }
   ],
   "source": [
    "df.head()\n"
   ]
  },
  {
   "cell_type": "code",
   "execution_count": 37,
   "id": "09841fb3",
   "metadata": {
    "scrolled": true
   },
   "outputs": [
    {
     "name": "stderr",
     "output_type": "stream",
     "text": [
      "C:\\Users\\Posha\\AppData\\Local\\Temp\\ipykernel_18780\\570289543.py:6: SettingWithCopyWarning: \n",
      "A value is trying to be set on a copy of a slice from a DataFrame\n",
      "\n",
      "See the caveats in the documentation: https://pandas.pydata.org/pandas-docs/stable/user_guide/indexing.html#returning-a-view-versus-a-copy\n",
      "  df[\"Name\"][i]= df[\"Name\"][i].strip()\n"
     ]
    },
    {
     "data": {
      "text/html": [
       "<div>\n",
       "<style scoped>\n",
       "    .dataframe tbody tr th:only-of-type {\n",
       "        vertical-align: middle;\n",
       "    }\n",
       "\n",
       "    .dataframe tbody tr th {\n",
       "        vertical-align: top;\n",
       "    }\n",
       "\n",
       "    .dataframe thead th {\n",
       "        text-align: right;\n",
       "    }\n",
       "</style>\n",
       "<table border=\"1\" class=\"dataframe\">\n",
       "  <thead>\n",
       "    <tr style=\"text-align: right;\">\n",
       "      <th></th>\n",
       "      <th>S.No.</th>\n",
       "      <th>Name</th>\n",
       "      <th>CMP Rs.</th>\n",
       "      <th>Mar Cap Rs.Cr.</th>\n",
       "      <th>Debt / Eq</th>\n",
       "      <th>Debt Rs.Cr.</th>\n",
       "    </tr>\n",
       "  </thead>\n",
       "  <tbody>\n",
       "    <tr>\n",
       "      <th>0</th>\n",
       "      <td>1</td>\n",
       "      <td>tcs</td>\n",
       "      <td>3376.15</td>\n",
       "      <td>1235551.95</td>\n",
       "      <td>0.09</td>\n",
       "      <td>7688.0</td>\n",
       "    </tr>\n",
       "    <tr>\n",
       "      <th>1</th>\n",
       "      <td>2</td>\n",
       "      <td>infosys</td>\n",
       "      <td>1417.65</td>\n",
       "      <td>588292.37</td>\n",
       "      <td>0.11</td>\n",
       "      <td>8483.0</td>\n",
       "    </tr>\n",
       "    <tr>\n",
       "      <th>2</th>\n",
       "      <td>3</td>\n",
       "      <td>hcl technologies</td>\n",
       "      <td>1157.55</td>\n",
       "      <td>313969.67</td>\n",
       "      <td>0.07</td>\n",
       "      <td>4794.0</td>\n",
       "    </tr>\n",
       "    <tr>\n",
       "      <th>3</th>\n",
       "      <td>4</td>\n",
       "      <td>wipro</td>\n",
       "      <td>408.10</td>\n",
       "      <td>224116.64</td>\n",
       "      <td>0.22</td>\n",
       "      <td>17466.6</td>\n",
       "    </tr>\n",
       "    <tr>\n",
       "      <th>4</th>\n",
       "      <td>5</td>\n",
       "      <td>ltimindtree</td>\n",
       "      <td>5136.75</td>\n",
       "      <td>152144.58</td>\n",
       "      <td>0.09</td>\n",
       "      <td>1578.6</td>\n",
       "    </tr>\n",
       "  </tbody>\n",
       "</table>\n",
       "</div>"
      ],
      "text/plain": [
       "   S.No.              Name  CMP Rs.  Mar Cap Rs.Cr.  Debt / Eq  Debt Rs.Cr.\n",
       "0      1               tcs  3376.15      1235551.95       0.09       7688.0\n",
       "1      2           infosys  1417.65       588292.37       0.11       8483.0\n",
       "2      3  hcl technologies  1157.55       313969.67       0.07       4794.0\n",
       "3      4             wipro   408.10       224116.64       0.22      17466.6\n",
       "4      5       ltimindtree  5136.75       152144.58       0.09       1578.6"
      ]
     },
     "execution_count": 37,
     "metadata": {},
     "output_type": "execute_result"
    }
   ],
   "source": [
    "# Getting ticker symbols for the companies\n",
    "# Cleaning the names of companies\n",
    "df['Name'] = df['Name'].str.lower()\n",
    "\n",
    "for i in range(len(df[\"Name\"])):\n",
    "    df[\"Name\"][i]= df[\"Name\"][i].strip()\n",
    "\n",
    "df.head()"
   ]
  },
  {
   "cell_type": "code",
   "execution_count": null,
   "id": "49001d99",
   "metadata": {},
   "outputs": [],
   "source": [
    "\n",
    "# Getting tickers\n",
    "tickers = {}\n",
    "for company_name in df['Name']:\n",
    "    try:\n",
    "        company = yfin.Ticker(company_name)\n",
    "        ticker = company.info['symbol']\n",
    "        tickers[company_name] = ticker\n",
    "    except KeyError:\n",
    "        tickers[company_name] = \"Not Found\"  # Handle tickers that are not found\n"
   ]
  },
  {
   "cell_type": "code",
   "execution_count": null,
   "id": "c7db6220",
   "metadata": {},
   "outputs": [],
   "source": []
  }
 ],
 "metadata": {
  "kernelspec": {
   "display_name": "Python 3 (ipykernel)",
   "language": "python",
   "name": "python3"
  },
  "language_info": {
   "codemirror_mode": {
    "name": "ipython",
    "version": 3
   },
   "file_extension": ".py",
   "mimetype": "text/x-python",
   "name": "python",
   "nbconvert_exporter": "python",
   "pygments_lexer": "ipython3",
   "version": "3.9.13"
  }
 },
 "nbformat": 4,
 "nbformat_minor": 5
}
